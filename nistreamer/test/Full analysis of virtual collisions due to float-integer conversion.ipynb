{
 "cells": [
  {
   "cell_type": "code",
   "execution_count": 1,
   "id": "b7a83aea",
   "metadata": {},
   "outputs": [],
   "source": [
    "import sys\n",
    "import os\n",
    "\n",
    "sys.path.append(os.path.join(\n",
    "    r'C:\\Users\\AA2-PC2\\Software\\NI-experiment-control - Atom Array\\nistreamer'\n",
    "))"
   ]
  },
  {
   "cell_type": "code",
   "execution_count": 2,
   "id": "49da5f03",
   "metadata": {},
   "outputs": [],
   "source": [
    "from nistreamer.streamer import NIStreamer\n",
    "from nistreamer.utils import iplot, RendOption\n",
    "import numpy as np"
   ]
  },
  {
   "cell_type": "code",
   "execution_count": 3,
   "id": "2ebd3c30",
   "metadata": {},
   "outputs": [],
   "source": [
    "ni_streamer = NIStreamer()"
   ]
  },
  {
   "cell_type": "code",
   "execution_count": 4,
   "id": "2a2b01a8",
   "metadata": {},
   "outputs": [],
   "source": [
    "do_card = ni_streamer.add_do_card(max_name='PXI1Slot6', samp_rate=10e6)\n",
    "\n",
    "do_bank = []\n",
    "for port_idx in range(4):\n",
    "    for line_idx in range(8):\n",
    "        do_bank.append(do_card.add_chan_(\n",
    "            port_idx=port_idx,\n",
    "            line_idx=line_idx\n",
    "        ))"
   ]
  },
  {
   "cell_type": "code",
   "execution_count": 5,
   "id": "a37aac85",
   "metadata": {},
   "outputs": [
    {
     "data": {
      "text/plain": [
       "32"
      ]
     },
     "execution_count": 5,
     "metadata": {},
     "output_type": "execute_result"
    }
   ],
   "source": [
    "len(do_bank)"
   ]
  },
  {
   "cell_type": "markdown",
   "id": "1dad1324",
   "metadata": {},
   "source": [
    "### Back-to-back instructions"
   ]
  },
  {
   "cell_type": "code",
   "execution_count": 6,
   "id": "b4e63f47",
   "metadata": {},
   "outputs": [
    {
     "name": "stdout",
     "output_type": "stream",
     "text": [
      "Adding instruction 0 ===============\n",
      "Adding instruction 1 ===============\n",
      "Adding instruction 2 ===============\n",
      "Adding instruction 3 ===============\n",
      "Adding instruction 4 ===============\n",
      "Adding instruction 5 ===============\n",
      "Adding instruction 6 ===============\n",
      "Adding instruction 7 ===============\n",
      "Adding instruction 8 ===============\n",
      "Adding instruction 9 ===============\n",
      "Adding instruction 10 ===============\n"
     ]
    },
    {
     "ename": "PanicException",
     "evalue": "Did not encounter 1-tick collision on the left\n\nPrevious instruction on the left: \n\t t = 0.09 s\n\t dur = 0.01 s\n\t start_pos = 900000 \n\t end_pos = 1000000\n\nNew instruction:\n\t t = 0.09999999999999999 s\n\t dur = 0.01 s\n\t start_pos = 1000000 \n\t end_pos = 1100000 ",
     "output_type": "error",
     "traceback": [
      "\u001b[1;31m---------------------------------------------------------------------------\u001b[0m",
      "\u001b[1;31mPanicException\u001b[0m                            Traceback (most recent call last)",
      "\u001b[1;32m<ipython-input-6-c4ca24defb39>\u001b[0m in \u001b[0;36m<module>\u001b[1;34m\u001b[0m\n\u001b[0;32m     11\u001b[0m \u001b[1;33m\u001b[0m\u001b[0m\n\u001b[0;32m     12\u001b[0m     \u001b[1;32mfor\u001b[0m \u001b[0mdo_chan\u001b[0m \u001b[1;32min\u001b[0m \u001b[0mdo_bank\u001b[0m\u001b[1;33m:\u001b[0m\u001b[1;33m\u001b[0m\u001b[1;33m\u001b[0m\u001b[0m\n\u001b[1;32m---> 13\u001b[1;33m         \u001b[0mdo_chan\u001b[0m\u001b[1;33m.\u001b[0m\u001b[0mhigh\u001b[0m\u001b[1;33m(\u001b[0m\u001b[0mt\u001b[0m\u001b[1;33m=\u001b[0m\u001b[0mt\u001b[0m\u001b[1;33m,\u001b[0m \u001b[0mdur\u001b[0m\u001b[1;33m=\u001b[0m\u001b[0minstr_dur\u001b[0m\u001b[1;33m)\u001b[0m\u001b[1;33m\u001b[0m\u001b[1;33m\u001b[0m\u001b[0m\n\u001b[0m\u001b[0;32m     14\u001b[0m         \u001b[1;31m# do_chan.go_high(t=t)\u001b[0m\u001b[1;33m\u001b[0m\u001b[1;33m\u001b[0m\u001b[1;33m\u001b[0m\u001b[0m\n\u001b[0;32m     15\u001b[0m         \u001b[1;31m# do_chan.go_low(t=t + instr_dur - buf)\u001b[0m\u001b[1;33m\u001b[0m\u001b[1;33m\u001b[0m\u001b[1;33m\u001b[0m\u001b[0m\n",
      "\u001b[1;32m~\\Software\\NI-experiment-control - Atom Array\\nistreamer\\nistreamer\\channel.py\u001b[0m in \u001b[0;36mhigh\u001b[1;34m(self, t, dur)\u001b[0m\n\u001b[0;32m    183\u001b[0m \u001b[1;33m\u001b[0m\u001b[0m\n\u001b[0;32m    184\u001b[0m     \u001b[1;32mdef\u001b[0m \u001b[0mhigh\u001b[0m\u001b[1;33m(\u001b[0m\u001b[0mself\u001b[0m\u001b[1;33m,\u001b[0m \u001b[0mt\u001b[0m\u001b[1;33m,\u001b[0m \u001b[0mdur\u001b[0m\u001b[1;33m)\u001b[0m\u001b[1;33m:\u001b[0m\u001b[1;33m\u001b[0m\u001b[1;33m\u001b[0m\u001b[0m\n\u001b[1;32m--> 185\u001b[1;33m         self._dll.high(\n\u001b[0m\u001b[0;32m    186\u001b[0m             \u001b[0mdev_name\u001b[0m\u001b[1;33m=\u001b[0m\u001b[0mself\u001b[0m\u001b[1;33m.\u001b[0m\u001b[0m_card_max_name\u001b[0m\u001b[1;33m,\u001b[0m\u001b[1;33m\u001b[0m\u001b[1;33m\u001b[0m\u001b[0m\n\u001b[0;32m    187\u001b[0m             \u001b[0mchan_name\u001b[0m\u001b[1;33m=\u001b[0m\u001b[0mself\u001b[0m\u001b[1;33m.\u001b[0m\u001b[0mchan_name\u001b[0m\u001b[1;33m,\u001b[0m\u001b[1;33m\u001b[0m\u001b[1;33m\u001b[0m\u001b[0m\n",
      "\u001b[1;31mPanicException\u001b[0m: Did not encounter 1-tick collision on the left\n\nPrevious instruction on the left: \n\t t = 0.09 s\n\t dur = 0.01 s\n\t start_pos = 900000 \n\t end_pos = 1000000\n\nNew instruction:\n\t t = 0.09999999999999999 s\n\t dur = 0.01 s\n\t start_pos = 1000000 \n\t end_pos = 1100000 "
     ]
    }
   ],
   "source": [
    "ni_streamer.clear_edit_cache()\n",
    "\n",
    "total_dur = 10.0\n",
    "instr_dur = 10e-3\n",
    "instr_num = int(total_dur // instr_dur)\n",
    "\n",
    "t = 0\n",
    "for idx in range(instr_num):\n",
    "    \n",
    "    print(f'Adding instruction {idx} ===============')\n",
    "        \n",
    "    for do_chan in do_bank:\n",
    "        do_chan.high(t=t, dur=instr_dur)\n",
    "        # do_chan.go_high(t=t)\n",
    "        # do_chan.go_low(t=t + instr_dur - buf)\n",
    "        \n",
    "    t += instr_dur"
   ]
  },
  {
   "cell_type": "code",
   "execution_count": null,
   "id": "21a9a910",
   "metadata": {},
   "outputs": [],
   "source": []
  },
  {
   "cell_type": "markdown",
   "id": "6cd46d18",
   "metadata": {},
   "source": [
    "### Test notes"
   ]
  },
  {
   "cell_type": "markdown",
   "id": "faba2b79",
   "metadata": {
    "heading_collapsed": true
   },
   "source": [
    "#### 1. No rounding (truncation), `end_pos = (dur as usize) + start_pos` - panics"
   ]
  },
  {
   "cell_type": "markdown",
   "id": "8ec87574",
   "metadata": {
    "hidden": true
   },
   "source": [
    "```Rust\n",
    "fn add_instr(&mut self, func: Instruction, t: f64, dur_spec: Option<(f64, bool)>) {\n",
    "        // Convert floating-point start and end times to sample clock ticks\n",
    "        let start_pos = (t * self.samp_rate()) as usize;\n",
    "        let end_spec = match dur_spec {\n",
    "            Some((dur, keep_val)) => {\n",
    "                let end_pos = ((dur) * self.samp_rate()) as usize + start_pos;\n",
    "                // Sanity check - pulse length is at leas 1 clock period or longer\n",
    "                if end_pos - start_pos < 1 {\n",
    "                    // panic message\n",
    "                };\n",
    "                Some((end_pos, keep_val))\n",
    "            },\n",
    "            None => None,\n",
    "        };\n",
    "```"
   ]
  },
  {
   "cell_type": "markdown",
   "id": "219495e9",
   "metadata": {
    "hidden": true
   },
   "source": [
    "```\n",
    "Adding instruction 0 ===============\n",
    "Adding instruction 1 ===============\n",
    "Adding instruction 2 ===============\n",
    "Adding instruction 3 ===============\n",
    "Adding instruction 4 ===============\n",
    "Adding instruction 5 ===============\n",
    "Adding instruction 6 ===============\n",
    "Adding instruction 7 ===============\n",
    "Adding instruction 8 ===============\n",
    "Adding instruction 9 ===============\n",
    "Adding instruction 10 ===============\n",
    "\n",
    "---------------------------------------------------------------------------\n",
    "PanicException                            Traceback (most recent call last)\n",
    "<ipython-input-6-c4ca24defb39> in <module>\n",
    "     11 \n",
    "     12     for do_chan in do_bank:\n",
    "---> 13         do_chan.high(t=t, dur=instr_dur)\n",
    "     14         # do_chan.go_high(t=t)\n",
    "     15         # do_chan.go_low(t=t + instr_dur - buf)\n",
    "\n",
    "~\\Software\\NI-experiment-control - Atom Array\\nistreamer\\nistreamer\\channel.py in high(self, t, dur)\n",
    "    183 \n",
    "    184     def high(self, t, dur):\n",
    "--> 185         self._dll.high(\n",
    "    186             dev_name=self._card_max_name,\n",
    "    187             chan_name=self.chan_name,\n",
    "\n",
    "PanicException: Encountered 1-tick collision on the left\n",
    "\n",
    "Previous instruction on the left: \n",
    "\t t = 0.09 s\n",
    "\t dur = 0.01 s\n",
    "\t start_pos = 900000 \n",
    "\t end_pos = 1000000\n",
    "\n",
    "New instruction:\n",
    "\t t = 0.09999999999999999 s\n",
    "\t dur = 0.01 s\n",
    "\t start_pos = 999999 \n",
    "\t end_pos = 1099999 \n",
    "```"
   ]
  },
  {
   "cell_type": "markdown",
   "id": "75e723b5",
   "metadata": {
    "heading_collapsed": true
   },
   "source": [
    "#### 2. Rounding, `end_pos = (dur as usize) + start_pos` - no panic"
   ]
  },
  {
   "cell_type": "markdown",
   "id": "0a5a67ab",
   "metadata": {
    "hidden": true
   },
   "source": [
    "```Rust\n",
    "fn add_instr(&mut self, func: Instruction, t: f64, dur_spec: Option<(f64, bool)>) {\n",
    "        // Convert floating-point start and end times to sample clock ticks\n",
    "        let start_pos = (t * self.samp_rate()).round() as usize;\n",
    "        let end_spec = match dur_spec {\n",
    "            Some((dur, keep_val)) => {\n",
    "                let end_pos = ((dur) * self.samp_rate()).round() as usize + start_pos;\n",
    "                // Sanity check - pulse length is at leas 1 clock period or longer\n",
    "                if end_pos - start_pos < 1 {\n",
    "                    // panic message\n",
    "                };\n",
    "                Some((end_pos, keep_val))\n",
    "            },\n",
    "            None => None,\n",
    "        };\n",
    "```"
   ]
  },
  {
   "cell_type": "markdown",
   "id": "91afbbb6",
   "metadata": {
    "hidden": true
   },
   "source": [
    "```\n",
    "Adding instruction 0 ===============\n",
    "Adding instruction 1 ===============\n",
    "Adding instruction 2 ===============\n",
    "Adding instruction 3 ===============\n",
    "Adding instruction 4 ===============\n",
    "Adding instruction 5 ===============\n",
    "Adding instruction 6 ===============\n",
    "Adding instruction 7 ===============\n",
    "Adding instruction 8 ===============\n",
    "Adding instruction 9 ===============\n",
    "Adding instruction 10 ===============\n",
    "\n",
    "---------------------------------------------------------------------------\n",
    "PanicException                            Traceback (most recent call last)\n",
    "<ipython-input-6-c4ca24defb39> in <module>\n",
    "     11 \n",
    "     12     for do_chan in do_bank:\n",
    "---> 13         do_chan.high(t=t, dur=instr_dur)\n",
    "     14         # do_chan.go_high(t=t)\n",
    "     15         # do_chan.go_low(t=t + instr_dur - buf)\n",
    "\n",
    "~\\Software\\NI-experiment-control - Atom Array\\nistreamer\\nistreamer\\channel.py in high(self, t, dur)\n",
    "    183 \n",
    "    184     def high(self, t, dur):\n",
    "--> 185         self._dll.high(\n",
    "    186             dev_name=self._card_max_name,\n",
    "    187             chan_name=self.chan_name,\n",
    "\n",
    "PanicException: Did not encounter 1-tick collision on the left\n",
    "\n",
    "Previous instruction on the left: \n",
    "\t t = 0.09 s\n",
    "\t dur = 0.01 s\n",
    "\t start_pos = 900000 \n",
    "\t end_pos = 1000000\n",
    "\n",
    "New instruction:\n",
    "\t t = 0.09999999999999999 s\n",
    "\t dur = 0.01 s\n",
    "\t start_pos = 1000000 \n",
    "\t end_pos = 1100000 \n",
    "\n",
    "\n",
    "```"
   ]
  },
  {
   "cell_type": "code",
   "execution_count": null,
   "id": "cd3cae44",
   "metadata": {
    "hidden": true
   },
   "outputs": [],
   "source": []
  },
  {
   "cell_type": "markdown",
   "id": "73818336",
   "metadata": {
    "heading_collapsed": true
   },
   "source": [
    "#### 3. No rounding (truncation), `end_pos = (t + dur) as usize` - no panic"
   ]
  },
  {
   "cell_type": "markdown",
   "id": "3dee1f46",
   "metadata": {
    "hidden": true
   },
   "source": [
    "```Rust\n",
    "fn add_instr(&mut self, func: Instruction, t: f64, dur_spec: Option<(f64, bool)>) {\n",
    "        // Convert floating-point start and end times to sample clock ticks\n",
    "        let start_pos = (t * self.samp_rate()) as usize;\n",
    "        let end_spec = match dur_spec {\n",
    "            Some((dur, keep_val)) => {\n",
    "                let end_pos = ((dur + t) * self.samp_rate()) as usize;\n",
    "                // Sanity check - pulse length is at leas 1 clock period or longer\n",
    "                if end_pos - start_pos < 1 {// panic message};\n",
    "                Some((end_pos, keep_val))\n",
    "            },\n",
    "            None => None,\n",
    "        };\n",
    "```"
   ]
  },
  {
   "cell_type": "markdown",
   "id": "74adc754",
   "metadata": {
    "hidden": true
   },
   "source": [
    "```\n",
    "Adding instruction 0 ===============\n",
    "Adding instruction 1 ===============\n",
    "Adding instruction 2 ===============\n",
    "Adding instruction 3 ===============\n",
    "Adding instruction 4 ===============\n",
    "Adding instruction 5 ===============\n",
    "Adding instruction 6 ===============\n",
    "Adding instruction 7 ===============\n",
    "Adding instruction 8 ===============\n",
    "Adding instruction 9 ===============\n",
    "Adding instruction 10 ===============\n",
    "\n",
    "---------------------------------------------------------------------------\n",
    "PanicException                            Traceback (most recent call last)\n",
    "<ipython-input-6-c4ca24defb39> in <module>\n",
    "     11 \n",
    "     12     for do_chan in do_bank:\n",
    "---> 13         do_chan.high(t=t, dur=instr_dur)\n",
    "     14         # do_chan.go_high(t=t)\n",
    "     15         # do_chan.go_low(t=t + instr_dur - buf)\n",
    "\n",
    "~\\Software\\NI-experiment-control - Atom Array\\nistreamer\\nistreamer\\channel.py in high(self, t, dur)\n",
    "    183 \n",
    "    184     def high(self, t, dur):\n",
    "--> 185         self._dll.high(\n",
    "    186             dev_name=self._card_max_name,\n",
    "    187             chan_name=self.chan_name,\n",
    "\n",
    "PanicException: Did not encounter 1-tick collision on the left\n",
    "\n",
    "Previous instruction on the left: \n",
    "\t t = 0.09 s\n",
    "\t dur = 0.01 s\n",
    "\t start_pos = 900000 \n",
    "\t end_pos = 999999\n",
    "\n",
    "New instruction:\n",
    "\t t = 0.09999999999999999 s\n",
    "\t dur = 0.01 s\n",
    "\t start_pos = 999999 \n",
    "\t end_pos = 1099999 \n",
    "\n",
    "\n",
    "```"
   ]
  },
  {
   "cell_type": "markdown",
   "id": "7eecd623",
   "metadata": {
    "heading_collapsed": true
   },
   "source": [
    "#### 4. Rounding, `end_pos = (t + dur) as usize` - no panic"
   ]
  },
  {
   "cell_type": "markdown",
   "id": "fe63369a",
   "metadata": {
    "hidden": true
   },
   "source": [
    "```Rust\n",
    "fn add_instr(&mut self, func: Instruction, t: f64, dur_spec: Option<(f64, bool)>) {\n",
    "        // Convert floating-point start and end times to sample clock ticks\n",
    "        let start_pos = (t * self.samp_rate()).round() as usize;\n",
    "        let end_spec = match dur_spec {\n",
    "            Some((dur, keep_val)) => {\n",
    "                let end_pos = ((t + dur) * self.samp_rate()).round() as usize;\n",
    "                // Sanity check - pulse length is at leas 1 clock period or longer\n",
    "                if end_pos - start_pos < 1 {// panic message}\n",
    "                Some((end_pos, keep_val))\n",
    "            },\n",
    "            None => None,\n",
    "        };\n",
    "        let mut new_instr_book = InstrBook::new(start_pos, end_spec, func);\n",
    "```"
   ]
  },
  {
   "cell_type": "markdown",
   "id": "f44e24c2",
   "metadata": {
    "hidden": true
   },
   "source": [
    "```\n",
    "Adding instruction 0 ===============\n",
    "Adding instruction 1 ===============\n",
    "Adding instruction 2 ===============\n",
    "Adding instruction 3 ===============\n",
    "Adding instruction 4 ===============\n",
    "Adding instruction 5 ===============\n",
    "Adding instruction 6 ===============\n",
    "Adding instruction 7 ===============\n",
    "Adding instruction 8 ===============\n",
    "Adding instruction 9 ===============\n",
    "Adding instruction 10 ===============\n",
    "\n",
    "---------------------------------------------------------------------------\n",
    "PanicException                            Traceback (most recent call last)\n",
    "<ipython-input-6-c4ca24defb39> in <module>\n",
    "     11 \n",
    "     12     for do_chan in do_bank:\n",
    "---> 13         do_chan.high(t=t, dur=instr_dur)\n",
    "     14         # do_chan.go_high(t=t)\n",
    "     15         # do_chan.go_low(t=t + instr_dur - buf)\n",
    "\n",
    "~\\Software\\NI-experiment-control - Atom Array\\nistreamer\\nistreamer\\channel.py in high(self, t, dur)\n",
    "    183 \n",
    "    184     def high(self, t, dur):\n",
    "--> 185         self._dll.high(\n",
    "    186             dev_name=self._card_max_name,\n",
    "    187             chan_name=self.chan_name,\n",
    "\n",
    "PanicException: Did not encounter 1-tick collision on the left\n",
    "\n",
    "Previous instruction on the left: \n",
    "\t t = 0.09 s\n",
    "\t dur = 0.01 s\n",
    "\t start_pos = 900000 \n",
    "\t end_pos = 1000000\n",
    "\n",
    "New instruction:\n",
    "\t t = 0.09999999999999999 s\n",
    "\t dur = 0.01 s\n",
    "\t start_pos = 1000000 \n",
    "\t end_pos = 1100000 \n",
    "```"
   ]
  },
  {
   "cell_type": "markdown",
   "id": "3dded1b9",
   "metadata": {},
   "source": [
    "### Summary"
   ]
  },
  {
   "cell_type": "markdown",
   "id": "fdfe98fa",
   "metadata": {},
   "source": [
    "Test confirmed that truncation can indeed lead to an unexpected jump by 1 down for a float \"nominally equal\" to an integer.\n",
    "\n",
    "Switching to rounding moves the instability values to half-integers, where jump would be +-1/2."
   ]
  },
  {
   "cell_type": "code",
   "execution_count": null,
   "id": "5a0e5345",
   "metadata": {},
   "outputs": [],
   "source": []
  },
  {
   "cell_type": "markdown",
   "id": "fecb514f",
   "metadata": {},
   "source": [
    "Once selected between truncation or rounding, `start_pos` is calculated in only one way (shown for rounding):\n",
    "\n",
    "```\n",
    "let start_pos = (t * self.samp_rate()).round() as usize;\n",
    "```\n",
    "\n",
    "But there are still two possible ways of calculating `end_pos`:\n",
    "- by rounding `dur` first and then adding to `start_pos`  \n",
    " `let end_pos = (dur * self.samp_rate()).round() as usize + start_pos`\n",
    " \n",
    "\n",
    "- by summing `t + dur` as floats first and then converting to integer:  \n",
    " `let end_pos = ((t + dur) * self.samp_rate()) as usize`\n",
    "\n",
    "**The second way is preferred.**\n",
    "\n",
    "- it makes behavior of the second edge more intuitive. \n",
    "If (t+dur) was close to a clock tick, it will reliably be rounded there. On the contrary, first way would lead to unpredictable/unintuitive result for the second edge. For example, `t_start=1.5*clock_period` and `dur=1.5*clock_period` intuitively should reliably give second edge at 3 since it precisely matches this tick, but rounding + summing will give it at 4 (both t_start and dur will be rounded to 2).\n",
    "\n",
    "\n",
    "- the first way increases risks of virtual 1-tick collisions for back-to-back pulses. Because it makes `end_pos` of the previous pulse and `start_pos` of the next pulse be calculated through different \"float->int conversion path\". For `end_pos`, start time and duration are converted independently and then added, while for `start_pos` of the next pulse (start time + dur) are added as floats to give `t` first and then this `t` is converted. Using 2nd way makes both `end_pos` and `start_pos` be calculaded the same way, so if jump occurs, it is likely to be identical on both and not lead to a collision.\n",
    "\n",
    "This is precisely why the case `3. No rounding (truncation), end_pos = (t + dur) as usize - no panic` does not panic and case `1. No rounding (truncation), `end_pos = (dur as usize) + start_pos` - panics` does. Jump does happen in both cases, but for test \"3\" both `end_pos` and `start_pos` are shifted together.\n",
    "\n",
    "\n",
    "```\n",
    "// [x] denotes truncation of x\n",
    "\n",
    "// 1st way - happens in test (1) - panic\n",
    "end_pos = [90 ms] + [10 ms] = 90,000,0 + 10,000,0 = 100,000,0\n",
    "start_pos = [90 ms + 10 ms] = [99.(9) ms] = 99,999,9\n",
    "\n",
    "// 2nd way - happens in test (3) - no panic\n",
    "end_pos = [90 ms + 10 ms] = [99.(9) ms] = 99,999,9\n",
    "start_pos = [90 ms + 10 ms] = [99.(9) ms] = 99,999,9\n",
    "```\n",
    "\n",
    "Note that such \"synchronization\" of jumps may be contingent on start time `t` for the second pulse be calculated precisely as `start t of the first + duration of the first` since that fully reproduces arithmetic sequence for the first pulse end time `t + dur`. If start of the second pulse is obtained by another sequence, precision errors there might still break \"synchronization\"."
   ]
  },
  {
   "cell_type": "code",
   "execution_count": null,
   "id": "9320da90",
   "metadata": {},
   "outputs": [],
   "source": []
  },
  {
   "cell_type": "markdown",
   "id": "76321bc0",
   "metadata": {},
   "source": [
    "Overall, using:\n",
    "- rounding to move instability to half-integers\n",
    "- rounding (t + dur) to make \"conversion path\" similar for both `end_pos` and `start_pos`\n",
    "\n",
    "moves the unstable regions to a more intuitive place and reduces chances of matching `end_pos` and `start_pos` to jump across each other.\n",
    "\n",
    "Still, jumps could in principle occur (precisely half-integers, different arithmetics path for 2nd pulse start time) and it should be handled."
   ]
  },
  {
   "cell_type": "code",
   "execution_count": null,
   "id": "3829fb83",
   "metadata": {},
   "outputs": [],
   "source": []
  },
  {
   "cell_type": "code",
   "execution_count": null,
   "id": "58cc9ecf",
   "metadata": {},
   "outputs": [],
   "source": []
  },
  {
   "cell_type": "code",
   "execution_count": null,
   "id": "94b16567",
   "metadata": {},
   "outputs": [],
   "source": []
  }
 ],
 "metadata": {
  "kernelspec": {
   "display_name": "Python 3",
   "language": "python",
   "name": "python3"
  },
  "language_info": {
   "codemirror_mode": {
    "name": "ipython",
    "version": 3
   },
   "file_extension": ".py",
   "mimetype": "text/x-python",
   "name": "python",
   "nbconvert_exporter": "python",
   "pygments_lexer": "ipython3",
   "version": "3.8.8"
  }
 },
 "nbformat": 4,
 "nbformat_minor": 5
}
