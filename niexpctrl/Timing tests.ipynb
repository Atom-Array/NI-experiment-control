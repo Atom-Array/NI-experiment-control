{
 "cells": [
  {
   "cell_type": "code",
   "execution_count": 1,
   "id": "49da5f03",
   "metadata": {},
   "outputs": [],
   "source": [
    "from streamer import NIStreamer\n",
    "from utils import iplot, RendOption\n",
    "import numpy as np"
   ]
  },
  {
   "cell_type": "code",
   "execution_count": 2,
   "id": "2ebd3c30",
   "metadata": {},
   "outputs": [],
   "source": [
    "ni_stramer = NIStreamer()"
   ]
  },
  {
   "cell_type": "code",
   "execution_count": 3,
   "id": "aea72780",
   "metadata": {},
   "outputs": [],
   "source": [
    "TRIG_LINE = 'PXI_Trig0'\n",
    "REF_CLK_LINE = 'PXI_Trig7'"
   ]
  },
  {
   "cell_type": "code",
   "execution_count": 4,
   "id": "fe0eaf79",
   "metadata": {},
   "outputs": [],
   "source": [
    "ao_card_list = []\n",
    "do_card_list = []"
   ]
  },
  {
   "cell_type": "code",
   "execution_count": 5,
   "id": "190d34be",
   "metadata": {},
   "outputs": [],
   "source": [
    "# AO cards\n",
    "for idx, max_name in enumerate(['PXI1Slot3', 'PXI1Slot5']):\n",
    "    ao_card = ni_stramer.add_ao_card(max_name=max_name, samp_rate=1e6)\n",
    "    ao_card.cfg_start_trig(line=TRIG_LINE, export=True if idx==0 else False)\n",
    "    ao_card.cfg_ref_clk(line=REF_CLK_LINE, export=True if idx==0 else False)\n",
    "    ao_card_list.append(ao_card)\n",
    "    \n",
    "\n",
    "# MF card\n",
    "mf_card = ni_stramer.add_ao_card(max_name='PXI1Slot4', samp_rate=1e6)\n",
    "mf_card.cfg_start_trig(line=TRIG_LINE)\n",
    "mf_card.cfg_ref_clk(line=REF_CLK_LINE)\n",
    "\n",
    "# DO cards\n",
    "for max_name in ['PXI1Slot6', 'PXI1Slot7', 'PXI1Slot8', 'PXI1Slot9']:\n",
    "    do_card = ni_stramer.add_do_card(max_name=max_name, samp_rate=10e6)\n",
    "    do_card.cfg_start_trig(line=TRIG_LINE)\n",
    "    do_card.cfg_samp_clk_src(src=REF_CLK_LINE)\n",
    "    do_card_list.append(do_card)"
   ]
  },
  {
   "cell_type": "code",
   "execution_count": 9,
   "id": "b7d9d277",
   "metadata": {},
   "outputs": [],
   "source": [
    "ao_bank = []\n",
    "do_bank = []\n",
    "\n",
    "for ao_card in ao_card_list:\n",
    "    for chan_idx in range(8):\n",
    "        ao_bank.append(\n",
    "            ao_card.add_chan(chan_idx=4*chan_idx)\n",
    "        )\n",
    "        \n",
    "for chan_idx in range(4):\n",
    "    ao_bank.append(\n",
    "        mf_card.add_chan(chan_idx=chan_idx)\n",
    "    )\n",
    "    \n",
    "for do_card in do_card_list:\n",
    "    for port_idx in range(4):\n",
    "        for line_idx in range(8):\n",
    "            do_bank.append(do_card.add_chan(\n",
    "                port_idx=port_idx,\n",
    "                line_idx=line_idx\n",
    "            ))"
   ]
  },
  {
   "cell_type": "code",
   "execution_count": null,
   "id": "fbf47bf7",
   "metadata": {},
   "outputs": [],
   "source": []
  },
  {
   "cell_type": "code",
   "execution_count": 14,
   "id": "b4e63f47",
   "metadata": {},
   "outputs": [],
   "source": [
    "ni_stramer.clear_edit_cache()\n",
    "\n",
    "total_dur = 10.0\n",
    "instr_dur = 10e-3\n",
    "instr_num = int(total_dur // instr_dur)\n",
    "\n",
    "# AO pulse settings\n",
    "amp = 0.5\n",
    "freq = 100e3\n",
    "buf = 50e-6\n",
    "\n",
    "t = 0\n",
    "for idx in range(instr_num):\n",
    "    \n",
    "#     print(f'Adding instruction {idx} ===============')\n",
    "    \n",
    "    for ao_chan in ao_bank:\n",
    "        ao_chan.sine(\n",
    "            t=t, dur=instr_dur-buf,\n",
    "            amp=amp, freq=freq\n",
    "        )\n",
    "        \n",
    "    for do_chan in do_bank:\n",
    "        do_chan.go_high(t=t)\n",
    "        do_chan.go_low(t=t + instr_dur - buf)\n",
    "        \n",
    "    t += instr_dur"
   ]
  },
  {
   "cell_type": "code",
   "execution_count": null,
   "id": "21a9a910",
   "metadata": {},
   "outputs": [],
   "source": []
  },
  {
   "cell_type": "markdown",
   "id": "41d37fa1",
   "metadata": {},
   "source": [
    "90000 ... 100000"
   ]
  },
  {
   "cell_type": "markdown",
   "id": "969dc3c4",
   "metadata": {},
   "source": [
    "100000-1 ... 110,000-1\n",
    "(99,999       109,999)"
   ]
  },
  {
   "cell_type": "code",
   "execution_count": 17,
   "id": "f96128d6",
   "metadata": {},
   "outputs": [],
   "source": [
    "iplot(\n",
    "    chan_list=[ao_bank[0], do_bank[0]],\n",
    "    nsamps=1.2345678e5,\n",
    "    t_end=15e-3\n",
    ")"
   ]
  },
  {
   "cell_type": "code",
   "execution_count": 18,
   "id": "998a8408",
   "metadata": {},
   "outputs": [
    {
     "data": {
      "text/plain": [
       "9.98995"
      ]
     },
     "execution_count": 18,
     "metadata": {},
     "output_type": "execute_result"
    }
   ],
   "source": [
    "ni_stramer.compile()"
   ]
  },
  {
   "cell_type": "code",
   "execution_count": 20,
   "id": "7474b86b",
   "metadata": {},
   "outputs": [],
   "source": [
    "ni_stramer.stream_exp()"
   ]
  },
  {
   "cell_type": "code",
   "execution_count": null,
   "id": "94b16567",
   "metadata": {},
   "outputs": [],
   "source": []
  }
 ],
 "metadata": {
  "kernelspec": {
   "display_name": "Python 3 (ipykernel)",
   "language": "python",
   "name": "python3"
  },
  "language_info": {
   "codemirror_mode": {
    "name": "ipython",
    "version": 3
   },
   "file_extension": ".py",
   "mimetype": "text/x-python",
   "name": "python",
   "nbconvert_exporter": "python",
   "pygments_lexer": "ipython3",
   "version": "3.9.13"
  }
 },
 "nbformat": 4,
 "nbformat_minor": 5
}
