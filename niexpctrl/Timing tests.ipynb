{
 "cells": [
  {
   "cell_type": "code",
   "execution_count": 1,
   "id": "49da5f03",
   "metadata": {},
   "outputs": [],
   "source": [
    "from streamer import NIStreamer\n",
    "from utils import iplot, RendOption\n",
    "import numpy as np"
   ]
  },
  {
   "cell_type": "code",
   "execution_count": 2,
   "id": "2ebd3c30",
   "metadata": {},
   "outputs": [],
   "source": [
    "ni_streamer = NIStreamer()"
   ]
  },
  {
   "cell_type": "code",
   "execution_count": 3,
   "id": "aea72780",
   "metadata": {},
   "outputs": [],
   "source": [
    "TRIG_LINE = 'PXI_Trig0'\n",
    "REF_CLK_LINE = 'PXI_Trig7'"
   ]
  },
  {
   "cell_type": "code",
   "execution_count": 4,
   "id": "fe0eaf79",
   "metadata": {},
   "outputs": [],
   "source": [
    "ao_card_list = []\n",
    "do_card_list = []\n",
    "mf_card_list = []"
   ]
  },
  {
   "cell_type": "code",
   "execution_count": null,
   "id": "c0936649",
   "metadata": {},
   "outputs": [],
   "source": []
  },
  {
   "cell_type": "code",
   "execution_count": 5,
   "id": "190d34be",
   "metadata": {},
   "outputs": [],
   "source": [
    "# AO cards\n",
    "# for idx, max_name in enumerate(['PXI1Slot5', ]):  # 'PXI1Slot5'\n",
    "#     ao_card = ni_streamer.add_ao_card(max_name=max_name, samp_rate=1e6)\n",
    "#     ao_card.cfg_start_trig(line=TRIG_LINE, export=True if idx==0 else False)\n",
    "#     ao_card.cfg_ref_clk(line=REF_CLK_LINE, export=True if idx==0 else False)\n",
    "#     ao_card_list.append(ao_card)\n",
    "    \n",
    "\n",
    "# MF card\n",
    "mf_card = ni_streamer.add_ao_card(max_name='PXI1Slot4', samp_rate=1e6)\n",
    "# mf_card.cfg_start_trig(line=TRIG_LINE)\n",
    "# mf_card.cfg_ref_clk(line=REF_CLK_LINE)\n",
    "mf_card_list.append(mf_card)\n",
    "\n",
    "# # DO cards\n",
    "# for max_name in ['PXI1Slot6', 'PXI1Slot7', 'PXI1Slot8', 'PXI1Slot9']:\n",
    "#     do_card = ni_streamer.add_do_card(max_name=max_name, samp_rate=10e6)\n",
    "#     do_card.cfg_start_trig(line=TRIG_LINE)\n",
    "#     do_card.cfg_samp_clk_src(src=REF_CLK_LINE)\n",
    "#     do_card_list.append(do_card)"
   ]
  },
  {
   "cell_type": "code",
   "execution_count": 14,
   "id": "7f3aa596",
   "metadata": {},
   "outputs": [],
   "source": [
    "ni_streamer.reset_all()"
   ]
  },
  {
   "cell_type": "code",
   "execution_count": 6,
   "id": "a5a91a4c",
   "metadata": {},
   "outputs": [
    {
     "data": {
      "text/plain": [
       "AO card PXI1Slot3\n",
       "\tSample clock: Using 1,000,000.0 Hz onboard sample clock\n",
       "\tStart trigger: Not using external start trigger\n",
       "\tReference clock: Not using external reference clock"
      ]
     },
     "execution_count": 6,
     "metadata": {},
     "output_type": "execute_result"
    }
   ],
   "source": [
    "ni_streamer['PXI1Slot3']"
   ]
  },
  {
   "cell_type": "code",
   "execution_count": 7,
   "id": "cba3a2ea",
   "metadata": {
    "collapsed": true
   },
   "outputs": [
    {
     "ename": "KeyError",
     "evalue": "'There is no card with max_name \"PXI1Slot5\"'",
     "output_type": "error",
     "traceback": [
      "\u001b[1;31m---------------------------------------------------------------------------\u001b[0m",
      "\u001b[1;31mKeyError\u001b[0m                                  Traceback (most recent call last)",
      "\u001b[1;32m~\\AppData\\Local\\Temp\\ipykernel_3904\\1848977425.py\u001b[0m in \u001b[0;36m<module>\u001b[1;34m\u001b[0m\n\u001b[1;32m----> 1\u001b[1;33m \u001b[0mni_streamer\u001b[0m\u001b[1;33m[\u001b[0m\u001b[1;34m'PXI1Slot5'\u001b[0m\u001b[1;33m]\u001b[0m\u001b[1;33m\u001b[0m\u001b[1;33m\u001b[0m\u001b[0m\n\u001b[0m",
      "\u001b[1;32m~\\Software\\NI-experiment-control\\niexpctrl\\streamer.py\u001b[0m in \u001b[0;36m__getitem__\u001b[1;34m(self, item)\u001b[0m\n\u001b[0;32m     17\u001b[0m             \u001b[1;32mreturn\u001b[0m \u001b[0mself\u001b[0m\u001b[1;33m.\u001b[0m\u001b[0m_do_card_dict\u001b[0m\u001b[1;33m[\u001b[0m\u001b[0mitem\u001b[0m\u001b[1;33m]\u001b[0m\u001b[1;33m\u001b[0m\u001b[1;33m\u001b[0m\u001b[0m\n\u001b[0;32m     18\u001b[0m         \u001b[1;32melse\u001b[0m\u001b[1;33m:\u001b[0m\u001b[1;33m\u001b[0m\u001b[1;33m\u001b[0m\u001b[0m\n\u001b[1;32m---> 19\u001b[1;33m             \u001b[1;32mraise\u001b[0m \u001b[0mKeyError\u001b[0m\u001b[1;33m(\u001b[0m\u001b[1;34mf'There is no card with max_name \"{item}\"'\u001b[0m\u001b[1;33m)\u001b[0m\u001b[1;33m\u001b[0m\u001b[1;33m\u001b[0m\u001b[0m\n\u001b[0m\u001b[0;32m     20\u001b[0m \u001b[1;33m\u001b[0m\u001b[0m\n\u001b[0;32m     21\u001b[0m     \u001b[1;31m# def __repr__(self):\u001b[0m\u001b[1;33m\u001b[0m\u001b[1;33m\u001b[0m\u001b[0m\n",
      "\u001b[1;31mKeyError\u001b[0m: 'There is no card with max_name \"PXI1Slot5\"'"
     ]
    }
   ],
   "source": [
    "ni_streamer['PXI1Slot5']"
   ]
  },
  {
   "cell_type": "code",
   "execution_count": 6,
   "id": "b7d9d277",
   "metadata": {},
   "outputs": [],
   "source": [
    "ao_bank = []\n",
    "do_bank = []\n",
    "\n",
    "for ao_card in ao_card_list:\n",
    "    for chan_idx in range(8):\n",
    "        ao_bank.append(\n",
    "            ao_card.add_chan(chan_idx=4*chan_idx)\n",
    "        )\n",
    "    \n",
    "for mf_card in mf_card_list:\n",
    "    for chan_idx in range(4):\n",
    "        ao_bank.append(\n",
    "            mf_card.add_chan(chan_idx=chan_idx)\n",
    "        )\n",
    "    \n",
    "for do_card in do_card_list:\n",
    "    for port_idx in range(4):\n",
    "        for line_idx in range(8):\n",
    "            do_bank.append(do_card.add_chan(\n",
    "                port_idx=port_idx,\n",
    "                line_idx=line_idx\n",
    "            ))"
   ]
  },
  {
   "cell_type": "code",
   "execution_count": 7,
   "id": "f68bbaf7",
   "metadata": {},
   "outputs": [
    {
     "data": {
      "text/plain": [
       "4"
      ]
     },
     "execution_count": 7,
     "metadata": {},
     "output_type": "execute_result"
    }
   ],
   "source": [
    "len(ao_bank)"
   ]
  },
  {
   "cell_type": "code",
   "execution_count": 8,
   "id": "a37aac85",
   "metadata": {},
   "outputs": [
    {
     "data": {
      "text/plain": [
       "0"
      ]
     },
     "execution_count": 8,
     "metadata": {},
     "output_type": "execute_result"
    }
   ],
   "source": [
    "len(do_bank)"
   ]
  },
  {
   "cell_type": "code",
   "execution_count": 9,
   "id": "dd9d7471",
   "metadata": {},
   "outputs": [
    {
     "data": {
      "text/plain": [
       "Channel ao2 on card PXI1Slot4"
      ]
     },
     "execution_count": 9,
     "metadata": {},
     "output_type": "execute_result"
    }
   ],
   "source": [
    "ao_bank[2]"
   ]
  },
  {
   "cell_type": "code",
   "execution_count": 10,
   "id": "20921e08",
   "metadata": {},
   "outputs": [
    {
     "data": {
      "text/plain": [
       "Channel port1/line3 on card PXI1Slot8"
      ]
     },
     "execution_count": 10,
     "metadata": {},
     "output_type": "execute_result"
    }
   ],
   "source": [
    "do_bank[75]"
   ]
  },
  {
   "cell_type": "code",
   "execution_count": null,
   "id": "fbf47bf7",
   "metadata": {},
   "outputs": [],
   "source": []
  },
  {
   "cell_type": "code",
   "execution_count": 22,
   "id": "b4e63f47",
   "metadata": {},
   "outputs": [],
   "source": [
    "ni_streamer.clear_edit_cache()\n",
    "\n",
    "total_dur = 10.0\n",
    "instr_dur = 10e-3\n",
    "instr_num = int(total_dur // instr_dur)\n",
    "\n",
    "# AO pulse settings\n",
    "amp = 0.1\n",
    "freq = 1e3\n",
    "buf = 50e-6\n",
    "\n",
    "t = 0\n",
    "for idx in range(instr_num):\n",
    "    \n",
    "#     print(f'Adding instruction {idx} ===============')\n",
    "    \n",
    "    for ao_chan in ao_bank:\n",
    "        ao_chan.sine(\n",
    "            t=t, dur=instr_dur - buf,\n",
    "            amp=amp, freq=freq\n",
    "        )\n",
    "        \n",
    "    for do_chan in do_bank:\n",
    "        # do_chan.high(t=t, dur=instr_dur - buf)\n",
    "        do_chan.go_high(t=t)\n",
    "        do_chan.go_low(t=t + instr_dur - buf)\n",
    "        \n",
    "    t += instr_dur"
   ]
  },
  {
   "cell_type": "code",
   "execution_count": null,
   "id": "21a9a910",
   "metadata": {},
   "outputs": [],
   "source": []
  },
  {
   "cell_type": "markdown",
   "id": "41d37fa1",
   "metadata": {},
   "source": [
    "90000 ... 100000"
   ]
  },
  {
   "cell_type": "markdown",
   "id": "969dc3c4",
   "metadata": {},
   "source": [
    "100000-1 ... 110,000-1\n",
    "(99,999       109,999)"
   ]
  },
  {
   "cell_type": "code",
   "execution_count": 24,
   "id": "f96128d6",
   "metadata": {},
   "outputs": [],
   "source": [
    "iplot(\n",
    "    chan_list=[ao_bank[0]],  # , do_bank[0]\n",
    "    nsamps=1.2345678e5, \n",
    "    t_end=25e-3\n",
    ")"
   ]
  },
  {
   "cell_type": "code",
   "execution_count": 25,
   "id": "085905e6",
   "metadata": {},
   "outputs": [
    {
     "data": {
      "text/plain": [
       "9.989949"
      ]
     },
     "execution_count": 25,
     "metadata": {},
     "output_type": "execute_result"
    }
   ],
   "source": [
    "ni_streamer.compile()"
   ]
  },
  {
   "cell_type": "code",
   "execution_count": 29,
   "id": "a4fa60d0",
   "metadata": {},
   "outputs": [],
   "source": [
    "import time"
   ]
  },
  {
   "cell_type": "code",
   "execution_count": 30,
   "id": "ece9ad23",
   "metadata": {},
   "outputs": [
    {
     "name": "stdout",
     "output_type": "stream",
     "text": [
      "9.9989492893219\n"
     ]
    }
   ],
   "source": [
    "t_start = time.time()\n",
    "ni_streamer.stream_exp()\n",
    "print(time.time() - t_start)"
   ]
  },
  {
   "cell_type": "code",
   "execution_count": null,
   "id": "c6aa4f92",
   "metadata": {},
   "outputs": [],
   "source": []
  },
  {
   "cell_type": "code",
   "execution_count": 31,
   "id": "3d07c754",
   "metadata": {},
   "outputs": [],
   "source": [
    "ni_streamer.reset_all()"
   ]
  },
  {
   "cell_type": "code",
   "execution_count": null,
   "id": "ef59d446",
   "metadata": {},
   "outputs": [],
   "source": []
  },
  {
   "cell_type": "markdown",
   "id": "9eae86cd",
   "metadata": {},
   "source": [
    "## Notes:"
   ]
  },
  {
   "cell_type": "markdown",
   "id": "d0ef692c",
   "metadata": {},
   "source": [
    "### MF card only"
   ]
  },
  {
   "cell_type": "markdown",
   "id": "2b120336",
   "metadata": {},
   "source": [
    "```Python\n",
    "# MF card\n",
    "mf_card = ni_streamer.add_ao_card(max_name='PXI1Slot4', samp_rate=1e6)\n",
    "# mf_card.cfg_start_trig(line=TRIG_LINE)\n",
    "# mf_card.cfg_ref_clk(line=REF_CLK_LINE)\n",
    "mf_card_list.append(mf_card)\n",
    "```"
   ]
  },
  {
   "cell_type": "markdown",
   "id": "d1ab9354",
   "metadata": {},
   "source": [
    "MF card: seems that actual sample clock period is 15 us, instead of 1 us."
   ]
  },
  {
   "cell_type": "markdown",
   "id": "5ac0bcb7",
   "metadata": {},
   "source": [
    "The single \"sine pulse\" - dur=10ms, freq=1kHz, should give 10 periods\n",
    "\n",
    "Actually indeed see 10 periods, but total duration is `5*500us=2.5ms` - 4 times shorter than expected\n",
    "(saw the same for regular AO card PXI1Slot3)"
   ]
  },
  {
   "cell_type": "code",
   "execution_count": null,
   "id": "93447615",
   "metadata": {},
   "outputs": [],
   "source": []
  },
  {
   "cell_type": "code",
   "execution_count": null,
   "id": "08cf3e49",
   "metadata": {},
   "outputs": [],
   "source": []
  },
  {
   "cell_type": "code",
   "execution_count": null,
   "id": "d2b3037a",
   "metadata": {},
   "outputs": [],
   "source": []
  },
  {
   "cell_type": "code",
   "execution_count": null,
   "id": "f0fc2d12",
   "metadata": {},
   "outputs": [],
   "source": []
  },
  {
   "cell_type": "markdown",
   "id": "4461244c",
   "metadata": {},
   "source": [
    "### BUG"
   ]
  },
  {
   "cell_type": "code",
   "execution_count": 13,
   "id": "b75bd61c",
   "metadata": {},
   "outputs": [],
   "source": [
    "ni_streamer.clear_edit_cache()\n",
    "\n",
    "total_dur = 10.0\n",
    "instr_dur = 10e-3\n",
    "instr_num = int(total_dur // instr_dur)\n",
    "\n",
    "# AO pulse settings\n",
    "amp = 0.5\n",
    "freq = 100e3\n",
    "buf = 50e-6\n",
    "\n",
    "t = 0\n",
    "for idx in range(instr_num):\n",
    "    \n",
    "#     print(f'Adding instruction {idx} ===============')\n",
    "    \n",
    "    for ao_chan in ao_bank:\n",
    "        ao_chan.sine(\n",
    "            t=t, dur=instr_dur - buf,\n",
    "            amp=amp, freq=freq\n",
    "        )\n",
    "        \n",
    "    for do_chan in do_bank:\n",
    "        do_chan.high(t=t, dur=instr_dur - buf)\n",
    "        \n",
    "    t += instr_dur"
   ]
  },
  {
   "cell_type": "code",
   "execution_count": 12,
   "id": "998a8408",
   "metadata": {},
   "outputs": [
    {
     "ename": "PanicException",
     "evalue": "Attempting to compile channel port2/line2 with stop_pos 99899498 while instructions end at 99899499",
     "output_type": "error",
     "traceback": [
      "\u001b[1;31m---------------------------------------------------------------------------\u001b[0m",
      "\u001b[1;31mPanicException\u001b[0m                            Traceback (most recent call last)",
      "\u001b[1;32m~\\AppData\\Local\\Temp\\ipykernel_2384\\2904825007.py\u001b[0m in \u001b[0;36m<module>\u001b[1;34m\u001b[0m\n\u001b[1;32m----> 1\u001b[1;33m \u001b[0mni_streamer\u001b[0m\u001b[1;33m.\u001b[0m\u001b[0mcompile\u001b[0m\u001b[1;33m(\u001b[0m\u001b[1;33m)\u001b[0m\u001b[1;33m\u001b[0m\u001b[1;33m\u001b[0m\u001b[0m\n\u001b[0m",
      "\u001b[1;32m~\\Software\\NI-experiment-control\\niexpctrl\\streamer.py\u001b[0m in \u001b[0;36mcompile\u001b[1;34m(self, stop_time)\u001b[0m\n\u001b[0;32m     92\u001b[0m     \u001b[1;32mdef\u001b[0m \u001b[0mcompile\u001b[0m\u001b[1;33m(\u001b[0m\u001b[0mself\u001b[0m\u001b[1;33m,\u001b[0m \u001b[0mstop_time\u001b[0m\u001b[1;33m:\u001b[0m \u001b[0mOptional\u001b[0m\u001b[1;33m[\u001b[0m\u001b[0mfloat\u001b[0m\u001b[1;33m]\u001b[0m \u001b[1;33m=\u001b[0m \u001b[1;32mNone\u001b[0m\u001b[1;33m)\u001b[0m \u001b[1;33m->\u001b[0m \u001b[0mfloat\u001b[0m\u001b[1;33m:\u001b[0m\u001b[1;33m\u001b[0m\u001b[1;33m\u001b[0m\u001b[0m\n\u001b[0;32m     93\u001b[0m         \u001b[1;32mif\u001b[0m \u001b[0mstop_time\u001b[0m \u001b[1;32mis\u001b[0m \u001b[1;32mNone\u001b[0m\u001b[1;33m:\u001b[0m\u001b[1;33m\u001b[0m\u001b[1;33m\u001b[0m\u001b[0m\n\u001b[1;32m---> 94\u001b[1;33m             \u001b[0mself\u001b[0m\u001b[1;33m.\u001b[0m\u001b[0m_dll\u001b[0m\u001b[1;33m.\u001b[0m\u001b[0mcompile\u001b[0m\u001b[1;33m(\u001b[0m\u001b[1;33m)\u001b[0m\u001b[1;33m\u001b[0m\u001b[1;33m\u001b[0m\u001b[0m\n\u001b[0m\u001b[0;32m     95\u001b[0m         \u001b[1;32melse\u001b[0m\u001b[1;33m:\u001b[0m\u001b[1;33m\u001b[0m\u001b[1;33m\u001b[0m\u001b[0m\n\u001b[0;32m     96\u001b[0m             \u001b[0mself\u001b[0m\u001b[1;33m.\u001b[0m\u001b[0m_dll\u001b[0m\u001b[1;33m.\u001b[0m\u001b[0mcompile_with_stoptime\u001b[0m\u001b[1;33m(\u001b[0m\u001b[0mstop_time\u001b[0m\u001b[1;33m=\u001b[0m\u001b[0mstop_time\u001b[0m\u001b[1;33m)\u001b[0m\u001b[1;33m\u001b[0m\u001b[1;33m\u001b[0m\u001b[0m\n",
      "\u001b[1;31mPanicException\u001b[0m: Attempting to compile channel port2/line2 with stop_pos 99899498 while instructions end at 99899499"
     ]
    }
   ],
   "source": [
    "ni_streamer.compile()"
   ]
  },
  {
   "cell_type": "code",
   "execution_count": null,
   "id": "30c9f5ed",
   "metadata": {},
   "outputs": [],
   "source": []
  },
  {
   "cell_type": "code",
   "execution_count": 20,
   "id": "7474b86b",
   "metadata": {},
   "outputs": [],
   "source": [
    "ni_stramer.stream_exp()"
   ]
  },
  {
   "cell_type": "code",
   "execution_count": null,
   "id": "94b16567",
   "metadata": {},
   "outputs": [],
   "source": []
  }
 ],
 "metadata": {
  "kernelspec": {
   "display_name": "Python 3 (ipykernel)",
   "language": "python",
   "name": "python3"
  },
  "language_info": {
   "codemirror_mode": {
    "name": "ipython",
    "version": 3
   },
   "file_extension": ".py",
   "mimetype": "text/x-python",
   "name": "python",
   "nbconvert_exporter": "python",
   "pygments_lexer": "ipython3",
   "version": "3.9.13"
  }
 },
 "nbformat": 4,
 "nbformat_minor": 5
}
