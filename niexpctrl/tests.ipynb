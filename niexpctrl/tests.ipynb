{
 "cells": [
  {
   "cell_type": "code",
   "execution_count": 1,
   "id": "0ad3fa22",
   "metadata": {},
   "outputs": [],
   "source": [
    "from py_api import Experiment\n",
    "import numpy as np"
   ]
  },
  {
   "cell_type": "code",
   "execution_count": 2,
   "id": "2b57a76c",
   "metadata": {},
   "outputs": [],
   "source": [
    "my_exp = Experiment()"
   ]
  },
  {
   "cell_type": "code",
   "execution_count": 3,
   "id": "971936ba",
   "metadata": {},
   "outputs": [
    {
     "data": {
      "text/plain": [
       "Experiment class.\n",
       "The following AO cards have been added already:\n",
       "{}\n",
       "\n",
       "The following DO cards have been added already:\n",
       "{}"
      ]
     },
     "execution_count": 3,
     "metadata": {},
     "output_type": "execute_result"
    }
   ],
   "source": [
    "my_exp"
   ]
  },
  {
   "cell_type": "code",
   "execution_count": 4,
   "id": "6da1ed60",
   "metadata": {},
   "outputs": [],
   "source": [
    "fast_ao_card = my_exp.add_card(\n",
    "    card_type='AO',\n",
    "    max_name='PXI1Slot3',\n",
    "    samp_rate=1e6,\n",
    "    trig_mode=True,\n",
    "    trig_line='PXI_Trig0',\n",
    "    ref_clk_mode=True,\n",
    "    ref_clk_line='PXI_Trig7',\n",
    "    ref_clk_rate=10e6\n",
    ")"
   ]
  },
  {
   "cell_type": "code",
   "execution_count": 5,
   "id": "561782bc",
   "metadata": {},
   "outputs": [
    {
     "data": {
      "text/plain": [
       "<class 'py_api.Experiment.AOCard'>  card.\n",
       "The following output channels have been added:\n",
       "{}"
      ]
     },
     "execution_count": 5,
     "metadata": {},
     "output_type": "execute_result"
    }
   ],
   "source": [
    "my_exp['PXI1Slot3']"
   ]
  },
  {
   "cell_type": "code",
   "execution_count": 6,
   "id": "8d963159",
   "metadata": {},
   "outputs": [],
   "source": [
    "slow_ao_card = my_exp.add_card(\n",
    "    card_type='AO',\n",
    "    max_name='PXI1Slot4',\n",
    "    samp_rate=250e3,\n",
    "    trig_mode=False,\n",
    "    trig_line='PXI_Trig0',\n",
    "    ref_clk_mode=False,\n",
    "    ref_clk_line='PXI_Trig7',\n",
    "    ref_clk_rate=10e6\n",
    ")"
   ]
  },
  {
   "cell_type": "code",
   "execution_count": 7,
   "id": "d65f6fbd",
   "metadata": {},
   "outputs": [],
   "source": [
    "do_card = my_exp.add_card(\n",
    "    card_type='DO',\n",
    "    max_name='PXI1Slot6',\n",
    "    samp_rate=10e6,\n",
    "    samp_clk_src='PXI_Trig7',\n",
    "    trig_mode=False,\n",
    "    trig_line='PXI_Trig0'\n",
    ")"
   ]
  },
  {
   "cell_type": "code",
   "execution_count": null,
   "id": "228876a5",
   "metadata": {},
   "outputs": [],
   "source": [
    "# Add channels"
   ]
  },
  {
   "cell_type": "code",
   "execution_count": 8,
   "id": "acc8c45d",
   "metadata": {},
   "outputs": [],
   "source": [
    "bfield_grad = slow_ao_card.add_chnl(\n",
    "    chan_idx=0\n",
    ")"
   ]
  },
  {
   "cell_type": "code",
   "execution_count": 9,
   "id": "347c5c65",
   "metadata": {},
   "outputs": [
    {
     "data": {
      "text/plain": [
       "<py_api.Experiment.AOCard.OutChnl at 0x20d1540f670>"
      ]
     },
     "execution_count": 9,
     "metadata": {},
     "output_type": "execute_result"
    }
   ],
   "source": [
    "slow_ao_card[0]"
   ]
  },
  {
   "cell_type": "code",
   "execution_count": 10,
   "id": "0beef6d8",
   "metadata": {},
   "outputs": [],
   "source": [
    "mot_aom_pwr = fast_ao_card.add_chnl(\n",
    "    chan_idx=0\n",
    ")"
   ]
  },
  {
   "cell_type": "code",
   "execution_count": 11,
   "id": "2bf43081",
   "metadata": {},
   "outputs": [],
   "source": [
    "mot_shutter = do_card.add_chnl(\n",
    "    port_idx=0,\n",
    "    line_idx=0\n",
    ")"
   ]
  },
  {
   "cell_type": "code",
   "execution_count": 12,
   "id": "5fdfb442",
   "metadata": {},
   "outputs": [
    {
     "data": {
      "text/plain": [
       "<py_api.Experiment.DOCard.OutChnl at 0x20d136e5340>"
      ]
     },
     "execution_count": 12,
     "metadata": {},
     "output_type": "execute_result"
    }
   ],
   "source": [
    "do_card['port0/line0']"
   ]
  },
  {
   "cell_type": "code",
   "execution_count": 14,
   "id": "64977b7c",
   "metadata": {},
   "outputs": [],
   "source": [
    "my_exp.clear_edit_cache()"
   ]
  },
  {
   "cell_type": "code",
   "execution_count": 15,
   "id": "4ff25cd6",
   "metadata": {},
   "outputs": [],
   "source": [
    "tau_num = 100\n",
    "tau_arr = np.linspace(0.5e-3, 10e-3, tau_num)\n",
    "\n",
    "mot_pwr_num = 10\n",
    "mot_pwr_arr = np.linspace(0, 1, mot_pwr_num)\n",
    "\n",
    "buf_time = 100e-6\n",
    "\n",
    "# Experiment logic script\n",
    "t = 0\n",
    "\n",
    "for mot_pwr in mot_pwr_arr:\n",
    "    for tau in tau_arr:\n",
    "        \n",
    "        t += buf_time  # Safety buffer\n",
    "        \n",
    "        mot_aom_pwr.sine(\n",
    "            t=t, dur=tau,\n",
    "            amp=mot_pwr, freq=100e3,\n",
    "        )\n",
    "        \n",
    "        mot_shutter.go_high(t=t)\n",
    "        mot_shutter.go_low(t=t+tau)\n",
    "        \n",
    "        t += (tau + buf_time)\n",
    "\n",
    "bfield_grad.sine(\n",
    "    t=0, dur=t + 1e-3,\n",
    "    amp=0.5, dc_offs=0.5,\n",
    "    freq=10e3\n",
    ")"
   ]
  },
  {
   "cell_type": "code",
   "execution_count": 24,
   "id": "3b5d7b0a",
   "metadata": {},
   "outputs": [
    {
     "data": {
      "text/plain": [
       "5.451"
      ]
     },
     "execution_count": 24,
     "metadata": {},
     "output_type": "execute_result"
    }
   ],
   "source": [
    "my_exp.compile()"
   ]
  },
  {
   "cell_type": "code",
   "execution_count": 25,
   "id": "8e167e93",
   "metadata": {},
   "outputs": [],
   "source": [
    "my_exp.stream_exp()"
   ]
  },
  {
   "cell_type": "code",
   "execution_count": 18,
   "id": "5e4e770a",
   "metadata": {},
   "outputs": [],
   "source": [
    "my_exp.reset_all()"
   ]
  },
  {
   "cell_type": "code",
   "execution_count": null,
   "id": "fc685746",
   "metadata": {},
   "outputs": [],
   "source": []
  }
 ],
 "metadata": {
  "kernelspec": {
   "display_name": "Python 3 (ipykernel)",
   "language": "python",
   "name": "python3"
  },
  "language_info": {
   "codemirror_mode": {
    "name": "ipython",
    "version": 3
   },
   "file_extension": ".py",
   "mimetype": "text/x-python",
   "name": "python",
   "nbconvert_exporter": "python",
   "pygments_lexer": "ipython3",
   "version": "3.9.13"
  }
 },
 "nbformat": 4,
 "nbformat_minor": 5
}
